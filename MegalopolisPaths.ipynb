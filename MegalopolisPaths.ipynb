{
 "cells": [
  {
   "cell_type": "code",
   "execution_count": 6,
   "metadata": {},
   "outputs": [],
   "source": [
    "#estrutura inicial do grafo\n",
    "class Grafo:\n",
    "    def __init__(self, V, E):\n",
    "        self.V = V\n",
    "        self.E = set(frozenset((u,v)) for u,v in E)\n",
    "        self._vizinhos = {}\n",
    "        \n",
    "        #adiciona vertice para cada V passado como argumento\n",
    "        for v in V:\n",
    "            self.adiciona_vertice(v)\n",
    "        \n",
    "        #adiciona todas as arestas em E passado como argumento\n",
    "        for u,v in self.E:\n",
    "            self.adiciona_aresta(u,v)\n",
    "    def adiciona_vertice(self, v):\n",
    "    # adiciona se ainda nao existe o vertice no Grafo\n",
    "        if v not in self._vizinho:\n",
    "            self._vizinhos[v] = set()\n",
    "        \n",
    "    def adiciona_aresta(self, u, v):\n",
    "        #adiciona vertices caso u ou v nao existam\n",
    "        self.adiciona_vertice(u)\n",
    "        self.adiciona_vertice(v)\n",
    "    \n",
    "        #adiciona o conjunto de arestas em E\n",
    "        self.E.add(frozenset([u,v]))\n",
    "        self._vizinhos[u].add(v)\n",
    "        self._vizinhos[v].add(u)\n",
    "        \n",
    "        # verifica se aresta existe no Grafo\n",
    "    def existe_aresta(self, u, v):\n",
    "        e = frozenset([u,v])\n",
    "        # verifica se conjunto existe em E, caso exista ele retorna True, caso contrario retorna falso\n",
    "        if e in self.E:\n",
    "            return True\n",
    "        else:\n",
    "            return False\n",
    "        \n",
    "    # retorna grau de um vertice\n",
    "    def deg(self, v):\n",
    "        return len(self._vizinhos[v])\n",
    "\n",
    "    # retorna vizinhos de v\n",
    "    def vizinhos(self, v):\n",
    "        return iter(self._vizinhos[v])\n",
    "\n",
    "    # quantidade de arestas no Grafo\n",
    "    @property\n",
    "    def m(self):\n",
    "        return len(self.E)\n",
    "    \n",
    "    @property\n",
    "    def n(self):\n",
    "        return len(self._vizinhos)"
   ]
  },
  {
   "cell_type": "code",
   "execution_count": 2,
   "metadata": {},
   "outputs": [],
   "source": []
  },
  {
   "cell_type": "code",
   "execution_count": 4,
   "metadata": {},
   "outputs": [],
   "source": []
  },
  {
   "cell_type": "code",
   "execution_count": null,
   "metadata": {},
   "outputs": [],
   "source": []
  }
 ],
 "metadata": {
  "kernelspec": {
   "display_name": "Python 3",
   "language": "python",
   "name": "python3"
  },
  "language_info": {
   "codemirror_mode": {
    "name": "ipython",
    "version": 3
   },
   "file_extension": ".py",
   "mimetype": "text/x-python",
   "name": "python",
   "nbconvert_exporter": "python",
   "pygments_lexer": "ipython3",
   "version": "3.8.5"
  }
 },
 "nbformat": 4,
 "nbformat_minor": 5
}
