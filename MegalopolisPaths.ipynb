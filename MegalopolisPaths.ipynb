{
 "cells": [
  {
   "cell_type": "code",
   "execution_count": 1,
   "id": "7b733a2a",
   "metadata": {},
   "outputs": [],
   "source": [
    "#estrutura inicial do grafo\n",
    "class Grafo:\n",
    "    def __init__(self, V, E):\n",
    "        self.V = V\n",
    "        self.E = set(frozenset((u,v)) for u,v in E)\n",
    "        self._vizinhos = {}\n",
    "        \n",
    "        for v in V:\n",
    "            self.adiciona_vertice(v)\n",
    "\n",
    "        for u,v in self.E:\n",
    "            self.adiciona_aresta(u,v)"
   ]
  },
  {
   "cell_type": "code",
   "execution_count": null,
   "id": "fe30ac8c",
   "metadata": {},
   "outputs": [],
   "source": [
    "def adiciona_vertice(self, v):\n",
    "    if v not in self._vizinho:\n",
    "        self._vizinhos[v] = set()\n",
    "        \n",
    "def adiciona_aresta(self, u, v):\n",
    "    self.adiciona_vertice(u)\n",
    "    self.adiciona_vertice(v)\n",
    "    \n",
    "    self.E.add(frozenset([u,v]))\n",
    "    self._vizinhos[u]."
   ]
  }
 ],
 "metadata": {
  "kernelspec": {
   "display_name": "Python 3 (ipykernel)",
   "language": "python",
   "name": "python3"
  },
  "language_info": {
   "codemirror_mode": {
    "name": "ipython",
    "version": 3
   },
   "file_extension": ".py",
   "mimetype": "text/x-python",
   "name": "python",
   "nbconvert_exporter": "python",
   "pygments_lexer": "ipython3",
   "version": "3.9.6"
  }
 },
 "nbformat": 4,
 "nbformat_minor": 5
}
