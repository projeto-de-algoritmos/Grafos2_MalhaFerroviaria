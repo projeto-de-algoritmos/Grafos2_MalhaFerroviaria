{
 "cells": [
  {
   "cell_type": "code",
   "execution_count": 1,
   "metadata": {},
   "outputs": [],
   "source": [
    "import networkx as nx\n",
    "import matplotlib.pyplot as plt\n",
    "import pandas as pd\n",
    "import numpy as np"
   ]
  },
  {
   "cell_type": "code",
   "execution_count": null,
   "metadata": {},
   "outputs": [],
   "source": [
    "# estrutura aresta\n",
    "class Aresta:\n",
    "    # inicializa aresta\n",
    "    def __init__(self, comeca, termina, peso):\n",
    "        self.comeca = comeca\n",
    "        self.termina = termina\n",
    "        self.peso = peso\n",
    "        \n",
    "    # cria aresta no sentido contrario com mesmo peso\n",
    "    def aresta_volta(self):\n",
    "        return Aresta(self.termina, self.comeca, self.peso)\n",
    "\n",
    "# estrutura grafo\n",
    "class Grafo:\n",
    "    # inicia grafo\n",
    "    def __init__(self):\n",
    "        self._adj = {}\n",
    "        self.V = []\n",
    "        self.E = []\n",
    "    \n",
    "    # adiciona vertice somente se ele não foi adicionado ainda\n",
    "    def adiciona_vertice(self, vertice):\n",
    "        if vertice not in self._adj:\n",
    "            self.V.append(vertice)\n",
    "            self._adj[vertice] = set()\n",
    "    \n",
    "    # adiciona aresta não direcional\n",
    "    def adiciona_aresta(self, aresta):\n",
    "        \n",
    "        # como a função adciona_aresta so adiciona o vertice se ele não foi adicionado\n",
    "        # anteriormente então podemos chamar a funcao aqui para ter certeza \n",
    "        # de que a aresta possui vertices válidos\n",
    "        self.adiciona_vertice(aresta.comeca)\n",
    "        self.adiciona_vertice(aresta.termina)\n",
    "        \n",
    "        # adiciona aresta nalista de arestas\n",
    "        if aresta not in self.E:\n",
    "            self.E.append(aresta)\n",
    "            self.E.append(aresta.aresta_volta())\n",
    "        \n",
    "        # adiciona vertice na lista de adjacencia\n",
    "        self._adj[aresta.comeca].add(aresta)\n",
    "        self._adj[aresta.termina].add(aresta.aresta_volta())\n",
    "    \n",
    "    # adiciona aresta não direcional\n",
    "    def adiciona_aresta_direcionada(self, aresta):\n",
    "        \n",
    "        # como a função adciona_aresta so adiciona o vertice se ele não foi adicionado\n",
    "        # anteriormente então podemos chamar a funcao aqui para ter certeza \n",
    "        # de que a aresta possui vertices válidos\n",
    "        self.adiciona_vertice(aresta.comeca)\n",
    "        self.adiciona_vertice(aresta.termina)\n",
    "        \n",
    "        # adiciona aresta nalista de arestas\n",
    "        if aresta not in self.E:\n",
    "            self.E.append(aresta)\n",
    "        \n",
    "        # adiciona vertice na lista de adjacencia\n",
    "        self._adj[aresta.comeca].add(aresta)\n",
    "        \n",
    "    # função para fazer output do grafo\n",
    "    def print_grafo(self):\n",
    "        for i in self._adj:\n",
    "            print(i,end=': ')\n",
    "            for v in self._adj[i]:\n",
    "                print(f'{v.comeca}-{v.peso}-{v.termina}',end='   ')\n",
    "            print()\n",
    "            print('-------------------------------------------------------------------------------------------')\n",
    "    \n",
    "    # função find\n",
    "    # função faz 'rastreamento' da raiz\n",
    "    def find(self, parent, i):\n",
    "        if parent[i] == i:\n",
    "            return i\n",
    "        return self.find(parent, parent[i])\n",
    "    \n",
    "    # função union\n",
    "    #função faz a junção de duas arvores\n",
    "    def union(self, parent, rank, u, v):\n",
    "        uroot = self.find(parent, u)\n",
    "        vroot = self.find(parent, v)\n",
    "        \n",
    "        if rank[uroot] < rank[vroot]:\n",
    "            parent[uroot] = vroot\n",
    "        elif rank[uroot] > rank[vroot]:\n",
    "            parent[vroot] = uroot\n",
    "        else:\n",
    "            parent[vroot] = uroot\n",
    "            rank[uroot] += 1\n",
    "    \n",
    "    # retorna vizinhos de v\n",
    "    def vizinhos(self, v):\n",
    "        return iter(self._adj[v])\n",
    "    \n",
    "    @property\n",
    "    def n(self):\n",
    "        return len(self._adj)\n",
    "    \n",
    "    # algoritmo de kruskal nos entrega a árvore geradora mínima\n",
    "    def Kruskal(self):\n",
    "        arvore = Grafo()\n",
    "        resultado = []\n",
    "        i, e = 0, 0\n",
    "        aux = sorted(self.E, key=lambda Aresta: Aresta.peso)\n",
    "        parent = {}\n",
    "        rank = {}\n",
    "        \n",
    "        for node in self.V:\n",
    "            parent[node] = node\n",
    "            rank[node] = (0)\n",
    "            \n",
    "        while e < len(self.V) - 1:\n",
    "            u, v, w = aux[i].comeca, aux[i].termina, aux[i].peso\n",
    "            i = i + 1\n",
    "            x = self.find(parent, u)\n",
    "            y = self.find(parent, v)\n",
    "            if x != y:\n",
    "                e = e + 1\n",
    "                resultado.append([u, v, w])\n",
    "                arvore.adiciona_aresta(Aresta(u,v,w))\n",
    "                self.union(parent, rank, x, y)      \n",
    "        return arvore\n",
    "\n",
    "    \n",
    "    \n",
    "    def BFS_caminho(self, x, y):\n",
    "        G_aux = Grafo()\n",
    "        G_aux.V = self.V.copy()\n",
    "        G_menor = Grafo()\n",
    "        G_menor.V = self.V.copy()\n",
    "        \n",
    "        nao_visitado = self.V.copy()\n",
    "        nao_visitado.remove(x)\n",
    "        \n",
    "        queue = []\n",
    "        queue.append(x)\n",
    "            \n",
    "        while(queue):\n",
    "            u = queue.pop(0)\n",
    "\n",
    "            for v in list(self.vizinhos(u)):\n",
    "                if(v.termina in nao_visitado):\n",
    "                    G_aux.adiciona_aresta_direcionada(Aresta(v.termina,u,v.peso))\n",
    "                    nao_visitado.remove(v.termina)\n",
    "                    queue.append(v.termina)\n",
    "                if(v.termina == y):\n",
    "                    self.valor_caminho(G_aux, G_menor, x, y, valor=0)\n",
    "                    G_menor.retira_nos_nao_utilizados()\n",
    "                    return G_menor\n",
    "                    \n",
    "                    \n",
    "        return G_aux\n",
    "    \n",
    "    def valor_caminho(self, G_aux, G_menor, x, y, valor):\n",
    "        if x != y:\n",
    "            valor = valor + list(G_aux.vizinhos(y))[0].peso\n",
    "            G_menor.adiciona_aresta(Aresta(list(G_aux.vizinhos(y))[0].termina,y,list(G_aux.vizinhos(y))[0].peso))\n",
    "            self.valor_caminho(G_aux, G_menor, x, list(G_aux.vizinhos(y))[0].termina, valor)\n",
    "        if x == y:\n",
    "            print(f'A distância é: {valor}')\n",
    "            print()\n",
    "            print('Ordem das cidades percorridas:  ', end='')\n",
    "        print(f'{y}  ', end='')\n",
    "    \n",
    "    def retira_nos_nao_utilizados(self):\n",
    "        for v in self.V:\n",
    "            if v not in self._adj:\n",
    "                self.V.remove(v)\n",
    "                print(v)\n",
    "        print(self.V)"
   ]
  },
  {
   "cell_type": "code",
   "execution_count": null,
   "metadata": {},
   "outputs": [],
   "source": [
    "def plot_grafo(G):\n",
    "    fig = plt.figure(figsize=(20,15))\n",
    "    g = nx.Graph()\n",
    "\n",
    "    for v in G.V:\n",
    "        g.add_node(v)\n",
    "    \n",
    "    color_map = []\n",
    "    for node in g:\n",
    "        color_map.append('#F0E68C')\n",
    "\n",
    "    for u in G._adj:\n",
    "        lista = list(G._adj[u])\n",
    "        for v in lista:\n",
    "            g.add_edge(v.comeca,v.termina,weight=v.peso)\n",
    "\n",
    "    pos=nx.kamada_kawai_layout(g) \n",
    "    nx.draw_networkx(g, pos, node_color=color_map)\n",
    "    labels = nx.get_edge_attributes(g,'weight')\n",
    "    nx.draw_networkx_edge_labels(g,pos,edge_labels=labels)\n"
   ]
  },
  {
   "cell_type": "code",
   "execution_count": null,
   "metadata": {
    "scrolled": false
   },
   "outputs": [],
   "source": [
    "G = Grafo()\n",
    "\n",
    "capitais = pd.read_json(\"teste/estados_brasileiros.json\")\n",
    "\n",
    "for capital in list(capitais[0]):\n",
    "    G.adiciona_vertice(capital)"
   ]
  },
  {
   "cell_type": "code",
   "execution_count": null,
   "metadata": {
    "scrolled": true
   },
   "outputs": [],
   "source": [
    "distancia = pd.read_json(\"teste/distancia_estados.json\")\n",
    "for v in distancia:\n",
    "    if distancia.get(v)[0] != 0:\n",
    "        G.adiciona_aresta(Aresta(v.split(\":\")[0], v.split(\":\")[1], distancia.get(v)[0]))\n"
   ]
  },
  {
   "cell_type": "code",
   "execution_count": null,
   "metadata": {
    "scrolled": false
   },
   "outputs": [],
   "source": [
    "Arvore = G.Kruskal()"
   ]
  },
  {
   "cell_type": "code",
   "execution_count": null,
   "metadata": {
    "scrolled": false
   },
   "outputs": [],
   "source": [
    "plot_grafo(G)"
   ]
  },
  {
   "cell_type": "code",
   "execution_count": null,
   "metadata": {
    "scrolled": false
   },
   "outputs": [],
   "source": [
    "plot_grafo(Arvore)"
   ]
  },
  {
   "cell_type": "code",
   "execution_count": null,
   "metadata": {
    "scrolled": true
   },
   "outputs": [],
   "source": [
    "print(\"Digite a cidade de partida: \", end='')\n",
    "cidade_origem = input()\n",
    "print(\"Digite a cidade de destino: \", end='')\n",
    "cidade_destino = input()"
   ]
  },
  {
   "cell_type": "code",
   "execution_count": null,
   "metadata": {
    "scrolled": false
   },
   "outputs": [],
   "source": [
    "plot_grafo(Arvore.BFS_caminho(cidade_origem, cidade_destino))"
   ]
  }
 ],
 "metadata": {
  "kernelspec": {
   "display_name": "Python 3",
   "language": "python",
   "name": "python3"
  },
  "language_info": {
   "codemirror_mode": {
    "name": "ipython",
    "version": 3
   },
   "file_extension": ".py",
   "mimetype": "text/x-python",
   "name": "python",
   "nbconvert_exporter": "python",
   "pygments_lexer": "ipython3",
   "version": "3.8.5"
  }
 },
 "nbformat": 4,
 "nbformat_minor": 5
}
